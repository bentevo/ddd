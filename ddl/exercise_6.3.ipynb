{
 "cells": [
  {
   "cell_type": "code",
   "execution_count": 1,
   "metadata": {},
   "outputs": [],
   "source": [
    "import seaborn as sns\n",
    "import sklearn as sk \n",
    "import pandas as pd"
   ]
  },
  {
   "cell_type": "code",
   "execution_count": 78,
   "metadata": {},
   "outputs": [
    {
     "data": {
      "text/html": [
       "<div>\n",
       "<style scoped>\n",
       "    .dataframe tbody tr th:only-of-type {\n",
       "        vertical-align: middle;\n",
       "    }\n",
       "\n",
       "    .dataframe tbody tr th {\n",
       "        vertical-align: top;\n",
       "    }\n",
       "\n",
       "    .dataframe thead th {\n",
       "        text-align: right;\n",
       "    }\n",
       "</style>\n",
       "<table border=\"1\" class=\"dataframe\">\n",
       "  <thead>\n",
       "    <tr style=\"text-align: right;\">\n",
       "      <th></th>\n",
       "      <th>raw_character_text</th>\n",
       "      <th>spoken_words</th>\n",
       "    </tr>\n",
       "  </thead>\n",
       "  <tbody>\n",
       "    <tr>\n",
       "      <th>0</th>\n",
       "      <td>Miss Hoover</td>\n",
       "      <td>No, actually, it was a little of both. Sometim...</td>\n",
       "    </tr>\n",
       "    <tr>\n",
       "      <th>1</th>\n",
       "      <td>Lisa Simpson</td>\n",
       "      <td>Where's Mr. Bergstrom?</td>\n",
       "    </tr>\n",
       "    <tr>\n",
       "      <th>2</th>\n",
       "      <td>Miss Hoover</td>\n",
       "      <td>I don't know. Although I'd sure like to talk t...</td>\n",
       "    </tr>\n",
       "    <tr>\n",
       "      <th>3</th>\n",
       "      <td>Lisa Simpson</td>\n",
       "      <td>That life is worth living.</td>\n",
       "    </tr>\n",
       "    <tr>\n",
       "      <th>4</th>\n",
       "      <td>Edna Krabappel-Flanders</td>\n",
       "      <td>The polls will be open from now until the end ...</td>\n",
       "    </tr>\n",
       "  </tbody>\n",
       "</table>\n",
       "</div>"
      ],
      "text/plain": [
       "        raw_character_text                                       spoken_words\n",
       "0              Miss Hoover  No, actually, it was a little of both. Sometim...\n",
       "1             Lisa Simpson                             Where's Mr. Bergstrom?\n",
       "2              Miss Hoover  I don't know. Although I'd sure like to talk t...\n",
       "3             Lisa Simpson                         That life is worth living.\n",
       "4  Edna Krabappel-Flanders  The polls will be open from now until the end ..."
      ]
     },
     "execution_count": 78,
     "metadata": {},
     "output_type": "execute_result"
    }
   ],
   "source": [
    "df = pd.read_csv('simpsons_dataset.csv').dropna()\n",
    "df.head()"
   ]
  },
  {
   "cell_type": "code",
   "execution_count": 3,
   "metadata": {},
   "outputs": [
    {
     "data": {
      "text/plain": [
       "Homer Simpson          27850\n",
       "Marge Simpson          13172\n",
       "Bart Simpson           12995\n",
       "Lisa Simpson           10756\n",
       "C. Montgomery Burns     3077\n",
       "Name: raw_character_text, dtype: int64"
      ]
     },
     "execution_count": 3,
     "metadata": {},
     "output_type": "execute_result"
    }
   ],
   "source": [
    "df['raw_character_text'].value_counts().head()"
   ]
  },
  {
   "cell_type": "markdown",
   "metadata": {},
   "source": [
    "Bart has more lines than Lisa????"
   ]
  },
  {
   "cell_type": "code",
   "execution_count": 4,
   "metadata": {},
   "outputs": [
    {
     "data": {
      "text/html": [
       "<div>\n",
       "<style scoped>\n",
       "    .dataframe tbody tr th:only-of-type {\n",
       "        vertical-align: middle;\n",
       "    }\n",
       "\n",
       "    .dataframe tbody tr th {\n",
       "        vertical-align: top;\n",
       "    }\n",
       "\n",
       "    .dataframe thead th {\n",
       "        text-align: right;\n",
       "    }\n",
       "</style>\n",
       "<table border=\"1\" class=\"dataframe\">\n",
       "  <thead>\n",
       "    <tr style=\"text-align: right;\">\n",
       "      <th></th>\n",
       "      <th>raw_character_text</th>\n",
       "      <th>spoken_words</th>\n",
       "    </tr>\n",
       "  </thead>\n",
       "  <tbody>\n",
       "    <tr>\n",
       "      <th>1</th>\n",
       "      <td>Lisa Simpson</td>\n",
       "      <td>Where's Mr. Bergstrom?</td>\n",
       "    </tr>\n",
       "    <tr>\n",
       "      <th>3</th>\n",
       "      <td>Lisa Simpson</td>\n",
       "      <td>That life is worth living.</td>\n",
       "    </tr>\n",
       "    <tr>\n",
       "      <th>7</th>\n",
       "      <td>Bart Simpson</td>\n",
       "      <td>Victory party under the slide!</td>\n",
       "    </tr>\n",
       "    <tr>\n",
       "      <th>9</th>\n",
       "      <td>Lisa Simpson</td>\n",
       "      <td>Mr. Bergstrom! Mr. Bergstrom!</td>\n",
       "    </tr>\n",
       "    <tr>\n",
       "      <th>11</th>\n",
       "      <td>Lisa Simpson</td>\n",
       "      <td>Do you know where I could find him?</td>\n",
       "    </tr>\n",
       "  </tbody>\n",
       "</table>\n",
       "</div>"
      ],
      "text/plain": [
       "   raw_character_text                         spoken_words\n",
       "1        Lisa Simpson               Where's Mr. Bergstrom?\n",
       "3        Lisa Simpson           That life is worth living.\n",
       "7        Bart Simpson       Victory party under the slide!\n",
       "9        Lisa Simpson        Mr. Bergstrom! Mr. Bergstrom!\n",
       "11       Lisa Simpson  Do you know where I could find him?"
      ]
     },
     "execution_count": 4,
     "metadata": {},
     "output_type": "execute_result"
    }
   ],
   "source": [
    "df_subset = df[(df['raw_character_text']=='Bart Simpson') | (df['raw_character_text'] == 'Lisa Simpson')]\n",
    "# df.loc[(df[\"\"\"])] kan ook. \n",
    "df_subset.head()"
   ]
  },
  {
   "cell_type": "code",
   "execution_count": 5,
   "metadata": {},
   "outputs": [
    {
     "name": "stdout",
     "output_type": "stream",
     "text": [
      "There are 14257 words in the vocabulary. A selection: ['anguished', 'angus', 'anima', 'animal', 'animals', 'animated', 'animation', 'animators', 'anka', 'ankle', 'ann', 'annapolis', 'anne', 'annie', 'anniversary', 'annnnd', 'announce', 'announcement', 'announcements', 'announcer']\n"
     ]
    }
   ],
   "source": [
    "from sklearn.feature_extraction.text import CountVectorizer #object you need, you take the model?\n",
    "\n",
    "#convert it to unicode (standard for text that is used worldwide.) \n",
    "# wouldn't work in the CountVectorizer without it\n",
    "text = df_subset['spoken_words'].values.astype('U')\n",
    "\n",
    "# Counts all the words in the document \n",
    "# It will take out the very frequent words like 'I', 'the', etc. \n",
    "# these words are uninformative\n",
    "# the empty model\n",
    "vect = CountVectorizer(stop_words='english')\n",
    "# we create the count of all the words in the text\n",
    "# fitting the model\n",
    "vect = vect.fit(text) \n",
    "# words that are in the documents are added to a variable.\n",
    "feature_names = vect.get_feature_names() \n",
    "# shows the amount of unique words in the dataset + a sample of the words\n",
    "print(f\"There are {len(feature_names)} words in the vocabulary. A selection: {feature_names[500:520]}\")"
   ]
  },
  {
   "cell_type": "code",
   "execution_count": 6,
   "metadata": {},
   "outputs": [
    {
     "name": "stdout",
     "output_type": "stream",
     "text": [
      "  (23, 424)\t1\n",
      "  (38, 325)\t1\n",
      "  (43, 266)\t1\n",
      "  (61, 269)\t1\n",
      "  (72, 356)\t1\n",
      "  (78, 264)\t1\n",
      "  (80, 304)\t1\n",
      "  (96, 192)\t1\n",
      "  (98, 396)\t1\n",
      "  (149, 328)\t1\n",
      "  (154, 325)\t1\n",
      "  (155, 451)\t1\n",
      "  (161, 325)\t1\n",
      "  (162, 325)\t1\n",
      "  (184, 461)\t1\n",
      "  (205, 325)\t1\n",
      "  (208, 397)\t1\n",
      "  (229, 270)\t1\n",
      "  (235, 404)\t1\n",
      "  (256, 325)\t1\n",
      "  (284, 325)\t1\n",
      "  (291, 493)\t1\n",
      "  (292, 163)\t1\n",
      "  (315, 300)\t1\n",
      "  (318, 281)\t1\n",
      "  (353, 450)\t1\n",
      "  (355, 397)\t1\n",
      "  (359, 449)\t1\n",
      "  (363, 24)\t1\n",
      "  (363, 449)\t1\n",
      "  (381, 129)\t1\n",
      "  (382, 325)\t1\n",
      "  (383, 70)\t1\n",
      "  (389, 38)\t1\n",
      "  (389, 91)\t1\n",
      "  (391, 446)\t1\n",
      "  (393, 126)\t1\n",
      "  (405, 52)\t1\n",
      "  (405, 319)\t1\n",
      "  (405, 343)\t1\n",
      "  (408, 449)\t1\n",
      "  (414, 196)\t1\n",
      "  (422, 360)\t1\n",
      "  (457, 304)\t1\n"
     ]
    }
   ],
   "source": [
    "matrix = vect.transform(text) \n",
    "print(matrix[0:500,0:500]) "
   ]
  },
  {
   "cell_type": "code",
   "execution_count": 7,
   "metadata": {},
   "outputs": [],
   "source": [
    "df_sub = pd.DataFrame(matrix.toarray()) \n",
    "df_sub.index = df_subset['raw_character_text'] \n",
    "df_sub.columns = feature_names"
   ]
  },
  {
   "cell_type": "code",
   "execution_count": 8,
   "metadata": {},
   "outputs": [
    {
     "data": {
      "text/html": [
       "<div>\n",
       "<style scoped>\n",
       "    .dataframe tbody tr th:only-of-type {\n",
       "        vertical-align: middle;\n",
       "    }\n",
       "\n",
       "    .dataframe tbody tr th {\n",
       "        vertical-align: top;\n",
       "    }\n",
       "\n",
       "    .dataframe thead th {\n",
       "        text-align: right;\n",
       "    }\n",
       "</style>\n",
       "<table border=\"1\" class=\"dataframe\">\n",
       "  <thead>\n",
       "    <tr style=\"text-align: right;\">\n",
       "      <th></th>\n",
       "      <th>bartholemew</th>\n",
       "      <th>bartholomew</th>\n",
       "      <th>bartish</th>\n",
       "      <th>bartman</th>\n",
       "      <th>barto</th>\n",
       "      <th>bartrand</th>\n",
       "      <th>bartron</th>\n",
       "      <th>barts</th>\n",
       "      <th>barty</th>\n",
       "      <th>bas</th>\n",
       "      <th>base</th>\n",
       "      <th>baseball</th>\n",
       "      <th>based</th>\n",
       "      <th>basement</th>\n",
       "      <th>basements</th>\n",
       "    </tr>\n",
       "    <tr>\n",
       "      <th>raw_character_text</th>\n",
       "      <th></th>\n",
       "      <th></th>\n",
       "      <th></th>\n",
       "      <th></th>\n",
       "      <th></th>\n",
       "      <th></th>\n",
       "      <th></th>\n",
       "      <th></th>\n",
       "      <th></th>\n",
       "      <th></th>\n",
       "      <th></th>\n",
       "      <th></th>\n",
       "      <th></th>\n",
       "      <th></th>\n",
       "      <th></th>\n",
       "    </tr>\n",
       "  </thead>\n",
       "  <tbody>\n",
       "    <tr>\n",
       "      <th>Lisa Simpson</th>\n",
       "      <td>0</td>\n",
       "      <td>0</td>\n",
       "      <td>0</td>\n",
       "      <td>0</td>\n",
       "      <td>0</td>\n",
       "      <td>0</td>\n",
       "      <td>0</td>\n",
       "      <td>0</td>\n",
       "      <td>0</td>\n",
       "      <td>0</td>\n",
       "      <td>0</td>\n",
       "      <td>0</td>\n",
       "      <td>0</td>\n",
       "      <td>0</td>\n",
       "      <td>0</td>\n",
       "    </tr>\n",
       "    <tr>\n",
       "      <th>Lisa Simpson</th>\n",
       "      <td>0</td>\n",
       "      <td>0</td>\n",
       "      <td>0</td>\n",
       "      <td>0</td>\n",
       "      <td>0</td>\n",
       "      <td>0</td>\n",
       "      <td>0</td>\n",
       "      <td>0</td>\n",
       "      <td>0</td>\n",
       "      <td>0</td>\n",
       "      <td>0</td>\n",
       "      <td>0</td>\n",
       "      <td>0</td>\n",
       "      <td>0</td>\n",
       "      <td>0</td>\n",
       "    </tr>\n",
       "    <tr>\n",
       "      <th>Bart Simpson</th>\n",
       "      <td>0</td>\n",
       "      <td>0</td>\n",
       "      <td>0</td>\n",
       "      <td>0</td>\n",
       "      <td>0</td>\n",
       "      <td>0</td>\n",
       "      <td>0</td>\n",
       "      <td>0</td>\n",
       "      <td>0</td>\n",
       "      <td>0</td>\n",
       "      <td>0</td>\n",
       "      <td>0</td>\n",
       "      <td>0</td>\n",
       "      <td>0</td>\n",
       "      <td>0</td>\n",
       "    </tr>\n",
       "    <tr>\n",
       "      <th>Lisa Simpson</th>\n",
       "      <td>0</td>\n",
       "      <td>0</td>\n",
       "      <td>0</td>\n",
       "      <td>0</td>\n",
       "      <td>0</td>\n",
       "      <td>0</td>\n",
       "      <td>0</td>\n",
       "      <td>0</td>\n",
       "      <td>0</td>\n",
       "      <td>0</td>\n",
       "      <td>0</td>\n",
       "      <td>0</td>\n",
       "      <td>0</td>\n",
       "      <td>0</td>\n",
       "      <td>0</td>\n",
       "    </tr>\n",
       "  </tbody>\n",
       "</table>\n",
       "</div>"
      ],
      "text/plain": [
       "                    bartholemew  bartholomew  bartish  bartman  barto  \\\n",
       "raw_character_text                                                      \n",
       "Lisa Simpson                  0            0        0        0      0   \n",
       "Lisa Simpson                  0            0        0        0      0   \n",
       "Bart Simpson                  0            0        0        0      0   \n",
       "Lisa Simpson                  0            0        0        0      0   \n",
       "\n",
       "                    bartrand  bartron  barts  barty  bas  base  baseball  \\\n",
       "raw_character_text                                                         \n",
       "Lisa Simpson               0        0      0      0    0     0         0   \n",
       "Lisa Simpson               0        0      0      0    0     0         0   \n",
       "Bart Simpson               0        0      0      0    0     0         0   \n",
       "Lisa Simpson               0        0      0      0    0     0         0   \n",
       "\n",
       "                    based  basement  basements  \n",
       "raw_character_text                              \n",
       "Lisa Simpson            0         0          0  \n",
       "Lisa Simpson            0         0          0  \n",
       "Bart Simpson            0         0          0  \n",
       "Lisa Simpson            0         0          0  "
      ]
     },
     "execution_count": 8,
     "metadata": {},
     "output_type": "execute_result"
    }
   ],
   "source": [
    "df_sub.iloc[0:4, 1000:1015]"
   ]
  },
  {
   "cell_type": "markdown",
   "metadata": {},
   "source": [
    "### Start of exercise 2"
   ]
  },
  {
   "cell_type": "code",
   "execution_count": 9,
   "metadata": {},
   "outputs": [],
   "source": [
    "from sklearn.naive_bayes import MultinomialNB\n",
    "from sklearn.preprocessing import normalize\n",
    "from sklearn.model_selection import train_test_split\n",
    "\n",
    "y = df_subset['raw_character_text']\n",
    "X = df_sub.loc[:]\n",
    "#.loc[:] is niet nodig. "
   ]
  },
  {
   "cell_type": "code",
   "execution_count": 10,
   "metadata": {},
   "outputs": [],
   "source": [
    "# training data and test data\n",
    "X_train_k, X_test_k, y_train_k, y_test_k = train_test_split(X, y, test_size=0.3)"
   ]
  },
  {
   "cell_type": "code",
   "execution_count": 11,
   "metadata": {},
   "outputs": [
    {
     "data": {
      "text/plain": [
       "MultinomialNB(alpha=1.0, class_prior=None, fit_prior=True)"
      ]
     },
     "execution_count": 11,
     "metadata": {},
     "output_type": "execute_result"
    }
   ],
   "source": [
    "# we create the model, create an object (box, called nb \n",
    "nb = MultinomialNB()\n",
    "nb.fit(X_train_k, y_train_k)"
   ]
  },
  {
   "cell_type": "code",
   "execution_count": 39,
   "metadata": {},
   "outputs": [
    {
     "data": {
      "text/plain": [
       "array(['Bart Simpson', 'Lisa Simpson', 'Lisa Simpson', ...,\n",
       "       'Lisa Simpson', 'Bart Simpson', 'Bart Simpson'], dtype='<U12')"
      ]
     },
     "execution_count": 39,
     "metadata": {},
     "output_type": "execute_result"
    }
   ],
   "source": [
    "# using the object\n",
    "# nb. the . means it's either an object or a method.\n",
    "# because we need parentheses it's a method. \n",
    "# evaluating the model\n",
    "y_pred = nb.predict(X_test_k)\n",
    "y_pred"
   ]
  },
  {
   "cell_type": "code",
   "execution_count": 13,
   "metadata": {},
   "outputs": [
    {
     "name": "stdout",
     "output_type": "stream",
     "text": [
      " The accuracy is 0.6389278697726635.\n"
     ]
    }
   ],
   "source": [
    "accuracy = nb.score(X_test_k, y_test_k)\n",
    "print(f' The accuracy is {accuracy}.')"
   ]
  },
  {
   "cell_type": "markdown",
   "metadata": {},
   "source": [
    "The accuracy is quite low, at 63,8%."
   ]
  },
  {
   "cell_type": "markdown",
   "metadata": {},
   "source": [
    "### Exercise 3"
   ]
  },
  {
   "cell_type": "code",
   "execution_count": 31,
   "metadata": {},
   "outputs": [],
   "source": [
    "from sklearn.metrics import confusion_matrix"
   ]
  },
  {
   "cell_type": "code",
   "execution_count": 32,
   "metadata": {},
   "outputs": [
    {
     "data": {
      "text/plain": [
       "array([[3018,  949],\n",
       "       [1624, 1535]])"
      ]
     },
     "execution_count": 32,
     "metadata": {},
     "output_type": "execute_result"
    }
   ],
   "source": [
    "cm = confusion_matrix(y_test_k, y_pred)\n",
    "cm"
   ]
  },
  {
   "cell_type": "code",
   "execution_count": 33,
   "metadata": {},
   "outputs": [
    {
     "data": {
      "text/html": [
       "<div>\n",
       "<style scoped>\n",
       "    .dataframe tbody tr th:only-of-type {\n",
       "        vertical-align: middle;\n",
       "    }\n",
       "\n",
       "    .dataframe tbody tr th {\n",
       "        vertical-align: top;\n",
       "    }\n",
       "\n",
       "    .dataframe thead th {\n",
       "        text-align: right;\n",
       "    }\n",
       "</style>\n",
       "<table border=\"1\" class=\"dataframe\">\n",
       "  <thead>\n",
       "    <tr style=\"text-align: right;\">\n",
       "      <th></th>\n",
       "      <th>Bart Simpson(pred)</th>\n",
       "      <th>Lisa Simpson(pred)</th>\n",
       "    </tr>\n",
       "  </thead>\n",
       "  <tbody>\n",
       "    <tr>\n",
       "      <th>Bart Simpson(actual)</th>\n",
       "      <td>3018</td>\n",
       "      <td>949</td>\n",
       "    </tr>\n",
       "    <tr>\n",
       "      <th>Lisa Simpson(actual)</th>\n",
       "      <td>1624</td>\n",
       "      <td>1535</td>\n",
       "    </tr>\n",
       "  </tbody>\n",
       "</table>\n",
       "</div>"
      ],
      "text/plain": [
       "                      Bart Simpson(pred)  Lisa Simpson(pred)\n",
       "Bart Simpson(actual)                3018                 949\n",
       "Lisa Simpson(actual)                1624                1535"
      ]
     },
     "execution_count": 33,
     "metadata": {},
     "output_type": "execute_result"
    }
   ],
   "source": [
    "conf_matrix = pd.DataFrame(cm, index=['Bart Simpson(actual)', 'Lisa Simpson(actual)'], \n",
    "                           columns = ['Bart Simpson(pred)', 'Lisa Simpson(pred)']) \n",
    "conf_matrix"
   ]
  },
  {
   "cell_type": "code",
   "execution_count": 34,
   "metadata": {},
   "outputs": [
    {
     "data": {
      "text/plain": [
       "array(['Bart Simpson', 'Lisa Simpson'], dtype='<U12')"
      ]
     },
     "execution_count": 34,
     "metadata": {},
     "output_type": "execute_result"
    }
   ],
   "source": [
    "nb.classes_"
   ]
  },
  {
   "cell_type": "code",
   "execution_count": 35,
   "metadata": {},
   "outputs": [
    {
     "name": "stdout",
     "output_type": "stream",
     "text": [
      "The accuracy is 0.6389278697726635.\n"
     ]
    }
   ],
   "source": [
    "from sklearn.metrics import accuracy_score\n",
    "accuracy = accuracy_score(y_test_k, y_pred)\n",
    "print(f'The accuracy is {accuracy}.')"
   ]
  },
  {
   "cell_type": "markdown",
   "metadata": {},
   "source": [
    "#### Bart\n",
    "\\begin{equation}\n",
    "\\frac{3019}{(3019+894)} = 0.7715\n",
    "\\end{equation}\n",
    "\n",
    "\\begin{equation*}\n",
    "\\frac{3019}{(3019+1662)} = 0.6449\n",
    "\\end{equation*}\n",
    "\n",
    "These equations show how the recall is 0.7715<br>\n",
    "And the precision is 0.6449"
   ]
  },
  {
   "cell_type": "markdown",
   "metadata": {},
   "source": [
    "#### Lisa\n",
    "\n",
    "\\begin{equation}\n",
    "\\frac{1551}{(1551+1662)} = 0.4827\n",
    "\\end{equation}\n",
    "\n",
    "\\begin{equation*}\n",
    "\\frac{1551}{(1551+894)} = 0.6344\n",
    "\\end{equation*}\n",
    "\n",
    "These equations show how the recall is 0.4827<br>\n",
    "And the precision is 0.6344"
   ]
  },
  {
   "cell_type": "code",
   "execution_count": 51,
   "metadata": {},
   "outputs": [
    {
     "name": "stdout",
     "output_type": "stream",
     "text": [
      "              precision    recall  f1-score   support\n",
      "\n",
      "Bart Simpson       0.65      0.76      0.70      3967\n",
      "Lisa Simpson       0.62      0.49      0.54      3159\n",
      "\n",
      " avg / total       0.64      0.64      0.63      7126\n",
      "\n"
     ]
    }
   ],
   "source": [
    "# easier way to do this.\n",
    "from sklearn.metrics import classification_report\n",
    "print(classification_report(y_test_k,y_pred, nb.classes_))"
   ]
  },
  {
   "cell_type": "code",
   "execution_count": 66,
   "metadata": {},
   "outputs": [
    {
     "data": {
      "text/html": [
       "<div>\n",
       "<style scoped>\n",
       "    .dataframe tbody tr th:only-of-type {\n",
       "        vertical-align: middle;\n",
       "    }\n",
       "\n",
       "    .dataframe tbody tr th {\n",
       "        vertical-align: top;\n",
       "    }\n",
       "\n",
       "    .dataframe thead th {\n",
       "        text-align: right;\n",
       "    }\n",
       "</style>\n",
       "<table border=\"1\" class=\"dataframe\">\n",
       "  <thead>\n",
       "    <tr style=\"text-align: right;\">\n",
       "      <th></th>\n",
       "      <th>Bart</th>\n",
       "      <th>Lisa</th>\n",
       "    </tr>\n",
       "  </thead>\n",
       "  <tbody>\n",
       "    <tr>\n",
       "      <th>0</th>\n",
       "      <td>0.035228</td>\n",
       "      <td>0.964772</td>\n",
       "    </tr>\n",
       "    <tr>\n",
       "      <th>1</th>\n",
       "      <td>0.633464</td>\n",
       "      <td>0.366536</td>\n",
       "    </tr>\n",
       "    <tr>\n",
       "      <th>2</th>\n",
       "      <td>0.495146</td>\n",
       "      <td>0.504854</td>\n",
       "    </tr>\n",
       "    <tr>\n",
       "      <th>3</th>\n",
       "      <td>0.001121</td>\n",
       "      <td>0.998879</td>\n",
       "    </tr>\n",
       "    <tr>\n",
       "      <th>4</th>\n",
       "      <td>0.544615</td>\n",
       "      <td>0.455385</td>\n",
       "    </tr>\n",
       "  </tbody>\n",
       "</table>\n",
       "</div>"
      ],
      "text/plain": [
       "       Bart      Lisa\n",
       "0  0.035228  0.964772\n",
       "1  0.633464  0.366536\n",
       "2  0.495146  0.504854\n",
       "3  0.001121  0.998879\n",
       "4  0.544615  0.455385"
      ]
     },
     "execution_count": 66,
     "metadata": {},
     "output_type": "execute_result"
    }
   ],
   "source": [
    "proba = nb.predict_proba(X)\n",
    "proba = pd.DataFrame(proba)\n",
    "proba.columns = (\"Bart\", \"Lisa\")\n",
    "proba.head()\n",
    "\n",
    "#print(df.iloc[0,1])\n",
    "# print(nb.predict_proba(X[0:4]))"
   ]
  },
  {
   "cell_type": "code",
   "execution_count": 70,
   "metadata": {},
   "outputs": [],
   "source": [
    "index = 0\n",
    "predictions = []\n",
    "for line in df_subset[\"spoken_words\"]:\n",
    "    if index < 100:\n",
    "        if proba[\"Bart\"][index] > 0.5:\n",
    "            test = {\n",
    "                \"Predicted character\" : \"Bart Simpson\",\n",
    "                \"spoken_words\" : line\n",
    "            }\n",
    "            predictions.append(test)\n",
    "            \n",
    "        elif proba[\"Bart\"][index] < 0.5:\n",
    "            test = {\n",
    "                \"Predicted character\" : \"Lisa Simpson\",\n",
    "                \"spoken_words\" : line\n",
    "            }\n",
    "            predictions.append(test)\n",
    "            \n",
    "    index = index+1\n"
   ]
  },
  {
   "cell_type": "code",
   "execution_count": 79,
   "metadata": {},
   "outputs": [
    {
     "data": {
      "text/html": [
       "<div>\n",
       "<style scoped>\n",
       "    .dataframe tbody tr th:only-of-type {\n",
       "        vertical-align: middle;\n",
       "    }\n",
       "\n",
       "    .dataframe tbody tr th {\n",
       "        vertical-align: top;\n",
       "    }\n",
       "\n",
       "    .dataframe thead th {\n",
       "        text-align: right;\n",
       "    }\n",
       "</style>\n",
       "<table border=\"1\" class=\"dataframe\">\n",
       "  <thead>\n",
       "    <tr style=\"text-align: right;\">\n",
       "      <th></th>\n",
       "      <th>Character</th>\n",
       "      <th>Predicted character</th>\n",
       "      <th>Line</th>\n",
       "    </tr>\n",
       "  </thead>\n",
       "  <tbody>\n",
       "    <tr>\n",
       "      <th>0</th>\n",
       "      <td>Lisa Simpson</td>\n",
       "      <td>Lisa Simpson</td>\n",
       "      <td>Where's Mr. Bergstrom?</td>\n",
       "    </tr>\n",
       "    <tr>\n",
       "      <th>1</th>\n",
       "      <td>Lisa Simpson</td>\n",
       "      <td>Bart Simpson</td>\n",
       "      <td>That life is worth living.</td>\n",
       "    </tr>\n",
       "    <tr>\n",
       "      <th>2</th>\n",
       "      <td>Bart Simpson</td>\n",
       "      <td>Lisa Simpson</td>\n",
       "      <td>Victory party under the slide!</td>\n",
       "    </tr>\n",
       "    <tr>\n",
       "      <th>3</th>\n",
       "      <td>Lisa Simpson</td>\n",
       "      <td>Lisa Simpson</td>\n",
       "      <td>Mr. Bergstrom! Mr. Bergstrom!</td>\n",
       "    </tr>\n",
       "    <tr>\n",
       "      <th>4</th>\n",
       "      <td>Lisa Simpson</td>\n",
       "      <td>Bart Simpson</td>\n",
       "      <td>Do you know where I could find him?</td>\n",
       "    </tr>\n",
       "    <tr>\n",
       "      <th>5</th>\n",
       "      <td>Lisa Simpson</td>\n",
       "      <td>Lisa Simpson</td>\n",
       "      <td>The train, how like him... traditional, yet en...</td>\n",
       "    </tr>\n",
       "    <tr>\n",
       "      <th>6</th>\n",
       "      <td>Lisa Simpson</td>\n",
       "      <td>Lisa Simpson</td>\n",
       "      <td>I see he touched you, too.</td>\n",
       "    </tr>\n",
       "    <tr>\n",
       "      <th>7</th>\n",
       "      <td>Bart Simpson</td>\n",
       "      <td>Bart Simpson</td>\n",
       "      <td>Hey, thanks for your vote, man.</td>\n",
       "    </tr>\n",
       "    <tr>\n",
       "      <th>8</th>\n",
       "      <td>Bart Simpson</td>\n",
       "      <td>Bart Simpson</td>\n",
       "      <td>Well, you got that right. Thanks for your vote...</td>\n",
       "    </tr>\n",
       "    <tr>\n",
       "      <th>9</th>\n",
       "      <td>Bart Simpson</td>\n",
       "      <td>Lisa Simpson</td>\n",
       "      <td>Well, don't sweat it. Just so long as a couple...</td>\n",
       "    </tr>\n",
       "  </tbody>\n",
       "</table>\n",
       "</div>"
      ],
      "text/plain": [
       "      Character Predicted character  \\\n",
       "0  Lisa Simpson        Lisa Simpson   \n",
       "1  Lisa Simpson        Bart Simpson   \n",
       "2  Bart Simpson        Lisa Simpson   \n",
       "3  Lisa Simpson        Lisa Simpson   \n",
       "4  Lisa Simpson        Bart Simpson   \n",
       "5  Lisa Simpson        Lisa Simpson   \n",
       "6  Lisa Simpson        Lisa Simpson   \n",
       "7  Bart Simpson        Bart Simpson   \n",
       "8  Bart Simpson        Bart Simpson   \n",
       "9  Bart Simpson        Lisa Simpson   \n",
       "\n",
       "                                                Line  \n",
       "0                             Where's Mr. Bergstrom?  \n",
       "1                         That life is worth living.  \n",
       "2                     Victory party under the slide!  \n",
       "3                      Mr. Bergstrom! Mr. Bergstrom!  \n",
       "4                Do you know where I could find him?  \n",
       "5  The train, how like him... traditional, yet en...  \n",
       "6                         I see he touched you, too.  \n",
       "7                    Hey, thanks for your vote, man.  \n",
       "8  Well, you got that right. Thanks for your vote...  \n",
       "9  Well, don't sweat it. Just so long as a couple...  "
      ]
     },
     "execution_count": 79,
     "metadata": {},
     "output_type": "execute_result"
    }
   ],
   "source": [
    "predictions = pd.DataFrame(predictions)\n",
    "result = pd.merge(predictions, df_subset, on=\"spoken_words\")\n",
    "result = result[['raw_character_text','Predicted character','spoken_words']]\n",
    "result.columns = ['Character', 'Predicted character', 'Line']\n",
    "result.head(10)"
   ]
  },
  {
   "cell_type": "code",
   "execution_count": 83,
   "metadata": {},
   "outputs": [],
   "source": [
    "# Jonas' solution:\n",
    "\n",
    "# for i in range(10):\n",
    "#     prob = nb.predict_proba(X[i])\n",
    "#     print(f\"line: {i}. {df_subset.iloc[i,1]}\")\n",
    "#     print(f\"Bart: {prob[0,0]}, Lisa: {prob[0,1]}\")"
   ]
  },
  {
   "cell_type": "code",
   "execution_count": null,
   "metadata": {},
   "outputs": [],
   "source": []
  }
 ],
 "metadata": {
  "kernelspec": {
   "display_name": "Python 3",
   "language": "python",
   "name": "python3"
  },
  "language_info": {
   "codemirror_mode": {
    "name": "ipython",
    "version": 3
   },
   "file_extension": ".py",
   "mimetype": "text/x-python",
   "name": "python",
   "nbconvert_exporter": "python",
   "pygments_lexer": "ipython3",
   "version": "3.6.5"
  }
 },
 "nbformat": 4,
 "nbformat_minor": 2
}
