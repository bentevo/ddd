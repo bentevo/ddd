{
 "cells": [
  {
   "cell_type": "code",
   "execution_count": null,
   "metadata": {},
   "outputs": [],
   "source": [
    "calories = 58.56\n",
    "carbs = 8.6\n",
    "fat = 2.4\n",
    "sugar = 3.5\n",
    "\n",
    "amount = input(\"Hoeveel speculaasjes heeft u op?\")\n",
    "\n",
    "print(\"U heeft \" + amount + \" speculaasjes op.\")"
   ]
  },
  {
   "cell_type": "code",
   "execution_count": 5,
   "metadata": {},
   "outputs": [],
   "source": [
    "amount = float(amount)"
   ]
  },
  {
   "cell_type": "code",
   "execution_count": 6,
   "metadata": {},
   "outputs": [
    {
     "data": {
      "text/plain": [
       "4.0"
      ]
     },
     "execution_count": 6,
     "metadata": {},
     "output_type": "execute_result"
    }
   ],
   "source": [
    "amount"
   ]
  },
  {
   "cell_type": "code",
   "execution_count": 8,
   "metadata": {},
   "outputs": [
    {
     "name": "stdout",
     "output_type": "stream",
     "text": [
      "Calories consumed: 234.24 calories\n",
      "Carbs consumed: 34.4 grams\n",
      "Fat consumed: 9.6 grams\n",
      "Sugar consumed: 14.0 grams\n"
     ]
    }
   ],
   "source": [
    "user_calories = calories * amount\n",
    "user_carbs = carbs * amount\n",
    "user_fat = fat * amount\n",
    "user_sugar = sugar * amount\n",
    "\n",
    "print(\"Calories consumed: \" + str(user_calories) + \" calories\")\n",
    "print(\"Carbs consumed: \" + str(user_carbs) + \" grams\")\n",
    "print(\"Fat consumed: \" + str(user_fat) + \" grams\")\n",
    "print(\"Sugar consumed: \" + str(user_sugar) + \" grams\")"
   ]
  }
 ],
 "metadata": {
  "kernelspec": {
   "display_name": "Python 3",
   "language": "python",
   "name": "python3"
  },
  "language_info": {
   "codemirror_mode": {
    "name": "ipython",
    "version": 3
   },
   "file_extension": ".py",
   "mimetype": "text/x-python",
   "name": "python",
   "nbconvert_exporter": "python",
   "pygments_lexer": "ipython3",
   "version": "3.6.5"
  }
 },
 "nbformat": 4,
 "nbformat_minor": 2
}
